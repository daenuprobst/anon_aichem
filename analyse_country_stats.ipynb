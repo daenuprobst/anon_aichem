{
 "cells": [
  {
   "cell_type": "markdown",
   "metadata": {},
   "source": [
    "## Setup"
   ]
  },
  {
   "cell_type": "code",
   "execution_count": 8,
   "metadata": {},
   "outputs": [],
   "source": [
    "import string\n",
    "import numpy as np\n",
    "import pandas as pd\n",
    "from matplotlib import pyplot as plt\n",
    "from matplotlib import rcParams\n",
    "from matplotlib.axes import Axes\n",
    "from matplotlib.gridspec import GridSpec\n",
    "from scipy.stats import pearsonr, normaltest\n",
    "import country_converter as coco\n",
    "import seaborn as sns\n",
    "from scipy.stats import pearsonr\n",
    "\n",
    "sns.set_theme(context=\"paper\", style=\"ticks\", font=\"Arial\", font_scale=1.0)\n",
    "cc = coco.CountryConverter()"
   ]
  },
  {
   "cell_type": "code",
   "execution_count": 19,
   "metadata": {},
   "outputs": [],
   "source": [
    "def plot_reg(x, y, ax):\n",
    "    x = x.to_numpy()\n",
    "    y = y.to_numpy()\n",
    "    m, b = np.polyfit(x, y, 1)\n",
    "    r, p = pearsonr(x, y)\n",
    "    y_pred = m * x + b\n",
    "    ax.plot(x, y_pred, linewidth=1.0, linestyle=\"dashed\", color=\"gray\")\n",
    "    ax.annotate(\n",
    "        f\"r={round(r, 3)}, p={round(p, 3)}\",\n",
    "        xy=(x[-1], y_pred[-1]),\n",
    "        fontsize=7,\n",
    "        ha=\"left\",\n",
    "        va=\"top\",\n",
    "        xytext=(-5, 0),\n",
    "        textcoords=\"offset points\",\n",
    "        bbox=dict(boxstyle=\"square\", ec=\"white\", fc=\"white\"),\n",
    "    )\n",
    "\n",
    "\n",
    "def index_subplots(\n",
    "    axs: Axes,\n",
    "    font_size: float = 20,\n",
    "    font_weight: str = \"bold\",\n",
    "    font_family: str = rcParams[\"font.family\"],\n",
    "    x: float = -0.1,\n",
    "    y: float = 1.1,\n",
    "    uppercase: bool = False,\n",
    "    prefix: str = \"\",\n",
    "    suffix: str = \"\",\n",
    "    offset: int = 0,\n",
    "):\n",
    "    int_to_char_map = string.ascii_lowercase\n",
    "    if uppercase:\n",
    "        int_to_char_map = string.ascii_uppercase\n",
    "\n",
    "    for i, ax in enumerate(axs):\n",
    "        ax.text(\n",
    "            x,\n",
    "            y,\n",
    "            prefix + int_to_char_map[i + offset] + suffix,\n",
    "            transform=ax.transAxes,\n",
    "            size=font_size,\n",
    "            weight=font_weight,\n",
    "            fontfamily=font_family,\n",
    "        )"
   ]
  },
  {
   "cell_type": "markdown",
   "metadata": {},
   "source": [
    "### Load Data"
   ]
  },
  {
   "cell_type": "markdown",
   "metadata": {},
   "source": [
    "#### UN Data"
   ]
  },
  {
   "cell_type": "code",
   "execution_count": 20,
   "metadata": {},
   "outputs": [],
   "source": [
    "# Source: http://data.uis.unesco.org/\n",
    "df_demo = pd.read_csv(\"country_stats/un_demographics.csv\", usecols=[\"Indicator\", \"Country\", \"Time\", \"Value\"])\n",
    "df_rnd = pd.read_csv(\"country_stats/un_rnd.csv\", usecols=[\"Indicator\", \"Country\", \"Time\", \"Value\"])\n",
    "\n",
    "df_demo_gdp = df_demo[df_demo.Indicator == \"GDP (current US$)\"]\n",
    "df_demo_pop = df_demo[df_demo.Indicator == \"Total population (thousands)\"]\n",
    "\n",
    "df_rnd_res = df_rnd[df_rnd.Indicator == \"Researchers per million inhabitants (FTE)\"]\n",
    "df_rnd_erd = df_rnd[df_rnd.Indicator == \"GERD as a percentage of GDP\"]\n",
    "\n",
    "df_demo_gdp = df_demo_gdp.rename(columns={\"Value\": \"GDP\"})\n",
    "df_demo_pop = df_demo_pop.rename(columns={\"Value\": \"Population\"})\n",
    "\n",
    "df_rnd_res = df_rnd_res.rename(columns={\"Value\": \"Researchers_per_mil\"})\n",
    "df_rnd_erd = df_rnd_erd.rename(columns={\"Value\": \"GERT_percentage_gdp\"})\n",
    "\n",
    "df_demo_gdp.drop(columns=[\"Indicator\"], inplace=True)\n",
    "df_demo_pop.drop(columns=[\"Indicator\"], inplace=True)\n",
    "\n",
    "df_rnd_res.drop(columns=[\"Indicator\"], inplace=True)\n",
    "df_rnd_erd.drop(columns=[\"Indicator\"], inplace=True)\n",
    "\n",
    "df = pd.merge(df_rnd_erd, df_rnd_res, on=[\"Country\", \"Time\"], how=\"inner\")\n",
    "df = pd.merge(df, df_demo_pop, on=[\"Country\", \"Time\"], how=\"inner\")\n",
    "df = pd.merge(df, df_demo_gdp, on=[\"Country\", \"Time\"], how=\"inner\")\n",
    "\n",
    "df[\"GDP_per_capita\"] = df.GDP / (df.Population * 1000)\n",
    "df[\"Spending\"] = (df.GERT_percentage_gdp / 100) * df.GDP\n",
    "df[\"Researchers\"] = (df.Population / 1000) * df.Researchers_per_mil\n",
    "df[\"Spending_per_researcher\"] = df.Spending / df.Researchers\n",
    "\n",
    "df.Country = cc.convert(names=df.Country.replace(\"Ha�ti\", \"Haiti\"), to=\"ISO3\", not_found=\"Unknown\")\n",
    "\n",
    "df = df.sort_values(\"Time\").groupby([\"Country\"]).tail(1).reset_index()"
   ]
  },
  {
   "cell_type": "markdown",
   "metadata": {},
   "source": [
    "#### Crossref Collaboration Data"
   ]
  },
  {
   "cell_type": "code",
   "execution_count": 21,
   "metadata": {},
   "outputs": [],
   "source": [
    "# Source: Crossref\n",
    "df_collab = pd.concat([\n",
    "    pd.read_csv(\"bibliometrics/papers/crossref/affiliations/affiliations_Google.csv\"),\n",
    "    pd.read_csv(\"bibliometrics/papers/crossref/affiliations/affiliations_Nvidia.csv\"),\n",
    "    pd.read_csv(\"bibliometrics/papers/crossref/affiliations/affiliations_Facebook.csv\"),\n",
    "    pd.read_csv(\"bibliometrics/papers/crossref/affiliations/affiliations_DeepMind.csv\")\n",
    "])\n",
    "\n",
    "def get_country(x):\n",
    "    x = str(x)\n",
    "    vals = x.split()\n",
    "    if vals[-1].isnumeric():\n",
    "        return vals[-2]\n",
    "    return vals[-1]\n",
    "\n",
    "df_collab[\"country\"] = df_collab.address.apply(get_country)\n",
    "df_collab[\"country\"] = df_collab.country.replace(\"nan\", \"Unknown\").replace(\"States\", \"USA\")\n",
    "df_collab = df_collab[[\"company\", \"country\"]].groupby([\"company\", \"country\"])\n",
    "df_collab = df_collab.size().reset_index().rename(columns={0: \"count\"})\n",
    "\n",
    "# df_collab.sort_values(by=\"count\").tail(20)"
   ]
  },
  {
   "cell_type": "code",
   "execution_count": 22,
   "metadata": {},
   "outputs": [
    {
     "name": "stdout",
     "output_type": "stream",
     "text": [
      "Amazon\n",
      "    Country      Spending\n",
      "26      BRA  3.118463e+10\n",
      "109     ITA  2.897110e+10\n",
      "50      CAN  2.891284e+10\n",
      "11      AUS  2.723068e+10\n",
      "81      CHE  2.302770e+10\n",
      "101     NLD  2.096617e+10\n",
      "112     SWE  1.909002e+10\n",
      "89      BEL  1.814616e+10\n",
      "110     ESP  1.801011e+10\n",
      "48      IND  1.771200e+10\n",
      "------\n",
      "Alphabet\n",
      "    Country      Spending\n",
      "11      AUS  2.723068e+10\n",
      "81      CHE  2.302770e+10\n",
      "101     NLD  2.096617e+10\n",
      "112     SWE  1.909002e+10\n",
      "89      BEL  1.814616e+10\n",
      "110     ESP  1.801011e+10\n",
      "48      IND  1.771200e+10\n",
      "93      RUS  1.628925e+10\n",
      "96      AUT  1.386982e+10\n",
      "85      DNK  1.054560e+10\n",
      "------\n",
      "Microsoft\n",
      "    Country      Spending\n",
      "112     SWE  1.909002e+10\n",
      "89      BEL  1.814616e+10\n",
      "110     ESP  1.801011e+10\n",
      "48      IND  1.771200e+10\n",
      "93      RUS  1.628925e+10\n",
      "96      AUT  1.386982e+10\n",
      "85      DNK  1.054560e+10\n",
      "104     POL  8.305309e+09\n",
      "103     NOR  8.251045e+09\n",
      "126     FIN  7.918388e+09\n",
      "------\n",
      "Apple\n",
      "    Country      Spending\n",
      "89      BEL  1.814616e+10\n",
      "110     ESP  1.801011e+10\n",
      "48      IND  1.771200e+10\n",
      "93      RUS  1.628925e+10\n",
      "96      AUT  1.386982e+10\n",
      "85      DNK  1.054560e+10\n",
      "104     POL  8.305309e+09\n",
      "103     NOR  8.251045e+09\n",
      "126     FIN  7.918388e+09\n",
      "113     TUR  7.839804e+09\n",
      "------\n",
      "Facebook\n",
      "    Country      Spending\n",
      "89      BEL  1.814616e+10\n",
      "110     ESP  1.801011e+10\n",
      "48      IND  1.771200e+10\n",
      "93      RUS  1.628925e+10\n",
      "96      AUT  1.386982e+10\n",
      "85      DNK  1.054560e+10\n",
      "104     POL  8.305309e+09\n",
      "103     NOR  8.251045e+09\n",
      "126     FIN  7.918388e+09\n",
      "113     TUR  7.839804e+09\n",
      "------\n",
      "Nvidia\n",
      "    Country      Spending\n",
      "49      MYS  3.732366e+09\n",
      "105     PRT  3.696394e+09\n",
      "92      SAU  3.656856e+09\n",
      "121     EGY  3.514388e+09\n",
      "125     HKG  3.423090e+09\n",
      "100     MEX  3.232057e+09\n",
      "79      NZL  2.996952e+09\n",
      "97      IDN  2.972478e+09\n",
      "98      GRC  2.825163e+09\n",
      "119     HUN  2.504870e+09\n",
      "------\n"
     ]
    }
   ],
   "source": [
    "# https://www.nasdaq.com/articles/which-companies-spend-the-most-in-research-and-development-rd-2021-06-21\n",
    "# https://www.fool.com/investing/2021/05/20/nvidias-24-billion-advantage-over-amd/\n",
    "\n",
    "# Employees\n",
    "# https://en.wikipedia.org/wiki/List_of_largest_technology_companies_by_revenue\n",
    "# https://www.macrotrends.net/stocks/charts/NVDA/nvidia/number-of-employees\n",
    "\n",
    "companies = [\n",
    "    {\"Company\": \"Amazon\", \"Spending\": 42740000000, \"Employees\": 147000},\n",
    "    {\"Company\": \"Alphabet\", \"Spending\": 27570000000, \"Employees\": 135301},\n",
    "    {\"Company\": \"Microsoft\", \"Spending\": 19270000000, \"Employees\": 163000},\n",
    "    {\"Company\": \"Apple\", \"Spending\": 18750000000, \"Employees\": 147000},\n",
    "    {\"Company\": \"Facebook\", \"Spending\": 18450000000, \"Employees\": 58604},\n",
    "    {\"Company\": \"Nvidia\", \"Spending\": 3920000000, \"Employees\": 22473},\n",
    "]"
   ]
  },
  {
   "cell_type": "markdown",
   "metadata": {},
   "source": [
    "### Plots"
   ]
  },
  {
   "cell_type": "markdown",
   "metadata": {},
   "source": [
    "#### Funding per Country and Researcher"
   ]
  },
  {
   "cell_type": "code",
   "execution_count": 23,
   "metadata": {},
   "outputs": [
    {
     "data": {
      "image/png": "[encoded data removed]",
      "text/plain": [
       "<Figure size 378.421x378.421 with 3 Axes>"
      ]
     },
     "metadata": {},
     "output_type": "display_data"
    }
   ],
   "source": [
    "fig = plt.figure(facecolor=\"white\", figsize=(1.5 * 3.5039, 1.5 * 3.5039))\n",
    "gs = GridSpec(2, 3, width_ratios=[1, 1, 0.5])\n",
    "ax0 = fig.add_subplot(gs[0, :-1])\n",
    "ax1 = fig.add_subplot(gs[0, 2])\n",
    "ax2 = fig.add_subplot(gs[1, :])\n",
    "\n",
    "sns.scatterplot(data=df, x=\"GDP_per_capita\", y=\"Spending_per_researcher\", color=\"black\", size=2.5, ax=ax0)\n",
    "ax0.set_xlabel(\"GDP Per Capita [USD]\")\n",
    "ax0.set_ylabel(\"Funding Researcher/Year\\n[USD]\")\n",
    "ax0.ticklabel_format(style=\"sci\", scilimits=(-3, 4), axis=\"y\")\n",
    "ax0.legend([],[], frameon=False)\n",
    "plot_reg(df[\"GDP_per_capita\"], df[\"Spending_per_researcher\"], ax0)\n",
    "\n",
    "sns.boxplot(\n",
    "    y=df[\"Spending_per_researcher\"], color=\"white\", linewidth=2,\n",
    "    medianprops=dict(color=\"black\"),\n",
    "    boxprops=dict(edgecolor=\"black\"),\n",
    "    whiskerprops=dict(color=\"black\"),\n",
    "    capprops=dict(color=\"black\"),\n",
    "    showfliers=False, ax=ax1\n",
    ")\n",
    "sns.swarmplot(data=df, y=\"Spending_per_researcher\", color=\"0.5\", size=2.5, ax=ax1)\n",
    "ax1.set_yticks([])\n",
    "ax1.set_ylabel(\"\")\n",
    "\n",
    "df_companies = pd.DataFrame(companies).rename(columns={\"Company\": \"Country\"})\n",
    "df_companies[\"Spending_per_researcher\"] = df_companies[\"Spending\"] / df_companies[\"Employees\"]\n",
    "\n",
    "\n",
    "df_top_bottom = pd.concat([\n",
    "    df.sort_values(by=\"Spending_per_researcher\").head(10)[[\"Country\", \"Spending_per_researcher\"]], \n",
    "    df.sort_values(by=\"Spending_per_researcher\").tail(10)[[\"Country\", \"Spending_per_researcher\"]],\n",
    "    df_companies[[\"Country\", \"Spending_per_researcher\"]]\n",
    "]).sort_values(by=\"Spending_per_researcher\")\n",
    "\n",
    "\n",
    "# companies\n",
    "# df_top_bottom = df_top_bottom\n",
    "\n",
    "sns.barplot(data=df_top_bottom, x=\"Country\", y=\"Spending_per_researcher\", color=\"black\", ax=ax2)\n",
    "ax2.set_xticklabels(ax2.get_xticklabels(), rotation=90, ha=\"left\")\n",
    "ax2.set_ylabel(\"Funding Researcher/Year\\nEmployee/Year [USD]\")\n",
    "ax2.set_xlabel(\"Country/Company\")\n",
    "ax2.set_yscale(\"log\")\n",
    "\n",
    "index_subplots([ax0, ax2], font_size=8, y=1.05)\n",
    "plt.tight_layout()\n",
    "\n",
    "plt.savefig(\"figure_countries.svg\")\n",
    "plt.savefig(\"figure_countries.eps\")"
   ]
  }
 ],
 "metadata": {
  "kernelspec": {
   "display_name": "Python 3.9.12 ('conda-equity')",
   "language": "python",
   "name": "python3"
  },
  "language_info": {
   "codemirror_mode": {
    "name": "ipython",
    "version": 3
   },
   "file_extension": ".py",
   "mimetype": "text/x-python",
   "name": "python",
   "nbconvert_exporter": "python",
   "pygments_lexer": "ipython3",
   "version": "3.9.13"
  },
  "orig_nbformat": 4,
  "vscode": {
   "interpreter": {
    "hash": "bdabe81566e78e6677709faab5931c1fc081be1d2239050d94770aec8cf4898e"
   }
  }
 },
 "nbformat": 4,
 "nbformat_minor": 2
}
