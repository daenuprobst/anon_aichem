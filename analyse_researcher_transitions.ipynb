{
 "cells": [
  {
   "cell_type": "code",
   "execution_count": null,
   "metadata": {},
   "outputs": [
    {
     "ename": "",
     "evalue": "",
     "output_type": "error",
     "traceback": [
      "\u001b[1;31mRunning cells with 'Python 3.9.5 ('base')' requires ipykernel package.\n",
      "\u001b[1;31mRun the following command to install 'ipykernel' into the Python environment. \n",
      "\u001b[1;31mCommand: 'conda install -n base ipykernel --update-deps --force-reinstall'"
     ]
    }
   ],
   "source": [
    "from collections import defaultdict, Counter\n",
    "import pandas as pd\n",
    "import seaborn as sns\n",
    "import matplotlib.pyplot as plt\n",
    "from matplotlib.ticker import MaxNLocator\n",
    "from data_loaders import get_bibliometrics_data\n",
    "from data_helpers import assign_industries\n",
    "from plot_helpers import index_subplots\n",
    "\n",
    "sns.set_theme(context=\"paper\", style=\"ticks\", font=\"Arial\", font_scale=1.0)"
   ]
  },
  {
   "cell_type": "code",
   "execution_count": null,
   "metadata": {},
   "outputs": [
    {
     "ename": "",
     "evalue": "",
     "output_type": "error",
     "traceback": [
      "\u001b[1;31mRunning cells with 'Python 3.9.5 ('base')' requires ipykernel package.\n",
      "\u001b[1;31mRun the following command to install 'ipykernel' into the Python environment. \n",
      "\u001b[1;31mCommand: 'conda install -n base ipykernel --update-deps --force-reinstall'"
     ]
    }
   ],
   "source": [
    "df_bio = get_bibliometrics_data(\"biology\")\n",
    "df_chem = get_bibliometrics_data(\"chemistry\")\n",
    "\n",
    "df_bio = assign_industries(df_bio, False)\n",
    "df_chem = assign_industries(df_chem, False)"
   ]
  },
  {
   "cell_type": "code",
   "execution_count": null,
   "metadata": {},
   "outputs": [
    {
     "ename": "",
     "evalue": "",
     "output_type": "error",
     "traceback": [
      "\u001b[1;31mRunning cells with 'Python 3.9.5 ('base')' requires ipykernel package.\n",
      "\u001b[1;31mRun the following command to install 'ipykernel' into the Python environment. \n",
      "\u001b[1;31mCommand: 'conda install -n base ipykernel --update-deps --force-reinstall'"
     ]
    }
   ],
   "source": [
    "fig, axs = plt.subplots(2, 2, facecolor=\"white\", figsize=(2.0 * 3.5039, 2.0 * 3.5039))\n",
    "\n",
    "def create_set(x):\n",
    "    return list(set(x))\n",
    "\n",
    "def most_common(X):\n",
    "    return max(set(X), key=X.count)\n",
    "\n",
    "\n",
    "def get_transitions(df, industry=None):\n",
    "    df = df.groupby([\"author\", \"year\"]).agg({\n",
    "        \"type\": create_set,\n",
    "    }).reset_index()\n",
    "\n",
    "    df[\"type\"] = df[\"type\"].apply(most_common)\n",
    "\n",
    "\n",
    "    authors = defaultdict(list)\n",
    "    for _, row in df.sort_values([\"author\", \"year\"]).iterrows():\n",
    "        authors[row[\"author\"]].append((row[\"year\"], row[\"type\"]))\n",
    "\n",
    "    print(\"Authors\", len(authors))\n",
    "    transitions = []\n",
    "    for author, year_aff in authors.items():\n",
    "        prev_aff = None\n",
    "        \n",
    "        for year, aff in year_aff:\n",
    "            if prev_aff != None:\n",
    "                if industry:\n",
    "                    if aff == industry and prev_aff == \"None\":\n",
    "                        transitions.append({\"type\": \"Education to Industry\", \"year\": year})\n",
    "                    if aff == \"None\" and prev_aff == industry:\n",
    "                        transitions.append({\"type\": \"Industry to Education\", \"year\": year})\n",
    "                else:\n",
    "                    if aff != \"None\" and prev_aff == \"None\":\n",
    "                        transitions.append({\"type\": \"Education to Industry\", \"year\": year})\n",
    "                    if aff == \"None\" and prev_aff != \"None\":\n",
    "                        transitions.append({\"type\": \"Industry to Education\", \"year\": year})\n",
    "            prev_aff = aff\n",
    "\n",
    "    df_transitions = pd.DataFrame(transitions).groupby([\"type\", \"year\"], as_index=False).size()\n",
    "    df_transitions = df_transitions[(df_transitions.year >= 2001) & (df_transitions.year < 2022)]\n",
    "    df_transitions = df_transitions.pivot_table(values=\"size\", index=\"year\", columns=\"type\").reset_index().fillna(0)\n",
    "    df_transitions[\"diff\"] = df_transitions[\"Education to Industry\"] - df_transitions[\"Industry to Education\"]\n",
    "\n",
    "    return df_transitions.sort_values(\"year\")\n",
    "\n",
    "df_transitions_bio = get_transitions(df_bio)\n",
    "df_transitions_chem = get_transitions(df_chem)\n",
    "\n",
    "df_transitions_bio_tech = get_transitions(df_bio, \"Tech\")\n",
    "df_transitions_chem_tech = get_transitions(df_chem, \"Tech\")\n",
    "\n",
    "\n",
    "for i, df in enumerate([df_transitions_bio, df_transitions_chem, df_transitions_bio_tech, df_transitions_chem_tech]):\n",
    "    ax = axs.flat[i]\n",
    "    ax.bar(df[\"year\"], df[\"diff\"], color=\"black\", label=\"Net Flow to Industry\")\n",
    "    for l, s in zip([\"Education to Industry\", \"Industry to Education\"], [\"solid\", \"dashed\"]):\n",
    "        ax.plot(df[\"year\"], df[l], label=l, linestyle=s)\n",
    "\n",
    "    ax.legend(frameon=False, loc=\"upper left\")\n",
    "    ax.set_xlabel(\"Year\")\n",
    "    ax.set_ylabel(\"Transitions\")\n",
    "    ax.xaxis.set_major_locator(MaxNLocator(integer=True))\n",
    "\n",
    "\n",
    "\n",
    "index_subplots(axs.flat, font_size=8, y=1.05)\n",
    "plt.tight_layout()\n",
    "plt.savefig(\"transitions.svg\")\n",
    "plt.savefig(\"transitions.eps\")"
   ]
  }
 ],
 "metadata": {
  "kernelspec": {
   "display_name": "Python 3.9.5 ('base')",
   "language": "python",
   "name": "python3"
  },
  "language_info": {
   "codemirror_mode": {
    "name": "ipython",
    "version": 3
   },
   "file_extension": ".py",
   "mimetype": "text/x-python",
   "name": "python",
   "nbconvert_exporter": "python",
   "pygments_lexer": "ipython3",
   "version": "3.9.5"
  },
  "orig_nbformat": 4,
  "vscode": {
   "interpreter": {
    "hash": "ac70b55f7a717171429c188754fd62ea405e89b1ab0cdf152a30f4e6bc634744"
   }
  }
 },
 "nbformat": 4,
 "nbformat_minor": 2
}
